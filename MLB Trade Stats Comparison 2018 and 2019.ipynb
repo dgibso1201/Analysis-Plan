{
 "cells": [
  {
   "cell_type": "markdown",
   "metadata": {},
   "source": [
    "## MLB Trade Stats Comparison 2018 and 2019 Final Project¶\n"
   ]
  },
  {
   "cell_type": "markdown",
   "metadata": {},
   "source": [
    "## By: David Gibson"
   ]
  },
  {
   "cell_type": "markdown",
   "metadata": {},
   "source": [
    "##  "
   ]
  },
  {
   "cell_type": "markdown",
   "metadata": {},
   "source": [
    "## Data in EMAT"
   ]
  },
  {
   "cell_type": "markdown",
   "metadata": {},
   "source": [
    "## Due: 5/11/21"
   ]
  },
  {
   "cell_type": "markdown",
   "metadata": {},
   "source": [
    "# Overall Question"
   ]
  },
  {
   "cell_type": "markdown",
   "metadata": {},
   "source": [
    "## My overall question is to see what year had the best trades between 2018 and 2019 in the MLB. I recieved this data from sportsnet.com, sbnation.com, and baseball-reference.com. I structured the data manually and seperated my data in an ordered fashion for the MLB trades in 2018 and 2019. The higher the batting average (avg), the better. The lower the (era) for pitchers, the better. I created a list of each player who was traded in 2018 and in 2019 in the MLB, where they were traded, and how they performed before and after that trade. Each year has its own data file. For pitchers, I compared their era from before and after the trade. For hitters, I compared their batting averages (avg) from before and after the trade.          "
   ]
  },
  {
   "cell_type": "markdown",
   "metadata": {},
   "source": [
    "## Here I loaded in multiple functions that I may use throughout my final project"
   ]
  },
  {
   "cell_type": "code",
   "execution_count": 67,
   "metadata": {},
   "outputs": [],
   "source": [
    "from datetime import datetime as dt\n",
    "import pandas as pd \n",
    "from matplotlib import pyplot as plt"
   ]
  },
  {
   "cell_type": "markdown",
   "metadata": {},
   "source": [
    "## 2018 MLB Trade Data"
   ]
  },
  {
   "cell_type": "code",
   "execution_count": 68,
   "metadata": {},
   "outputs": [
    {
     "data": {
      "text/html": [
       "<div>\n",
       "<style scoped>\n",
       "    .dataframe tbody tr th:only-of-type {\n",
       "        vertical-align: middle;\n",
       "    }\n",
       "\n",
       "    .dataframe tbody tr th {\n",
       "        vertical-align: top;\n",
       "    }\n",
       "\n",
       "    .dataframe thead th {\n",
       "        text-align: right;\n",
       "    }\n",
       "</style>\n",
       "<table border=\"1\" class=\"dataframe\">\n",
       "  <thead>\n",
       "    <tr style=\"text-align: right;\">\n",
       "      <th></th>\n",
       "      <th></th>\n",
       "      <th></th>\n",
       "      <th>MLB Trade Stats 2018</th>\n",
       "    </tr>\n",
       "  </thead>\n",
       "  <tbody>\n",
       "    <tr>\n",
       "      <th>Name</th>\n",
       "      <th>Team</th>\n",
       "      <th>BeforeTrade</th>\n",
       "      <td>AfterTrade</td>\n",
       "    </tr>\n",
       "    <tr>\n",
       "      <th>Jonathan Schoop</th>\n",
       "      <th>Brewers</th>\n",
       "      <th>bt: .244 avg</th>\n",
       "      <td>at: .202 avg</td>\n",
       "    </tr>\n",
       "    <tr>\n",
       "      <th>Jake Diekman</th>\n",
       "      <th>Diamondbacks</th>\n",
       "      <th>bt: 3.69 era</th>\n",
       "      <td>at: 7.53 era</td>\n",
       "    </tr>\n",
       "    <tr>\n",
       "      <th>Kevin Gausman</th>\n",
       "      <th>Braves</th>\n",
       "      <th>bt: 4.43 era</th>\n",
       "      <td>at: 2.87 era</td>\n",
       "    </tr>\n",
       "    <tr>\n",
       "      <th>Chris Archer</th>\n",
       "      <th>Pirates</th>\n",
       "      <th>bt: 4.31 era</th>\n",
       "      <td>at: 4.30 era</td>\n",
       "    </tr>\n",
       "  </tbody>\n",
       "</table>\n",
       "</div>"
      ],
      "text/plain": [
       "                                            MLB Trade Stats 2018\n",
       "Name             Team          BeforeTrade            AfterTrade\n",
       "Jonathan Schoop  Brewers       bt: .244 avg        at: .202 avg \n",
       "Jake Diekman     Diamondbacks  bt: 3.69 era      at: 7.53 era   \n",
       "Kevin Gausman    Braves        bt: 4.43 era       at: 2.87 era  \n",
       "Chris Archer     Pirates       bt: 4.31 era      at: 4.30 era   "
      ]
     },
     "execution_count": 68,
     "metadata": {},
     "output_type": "execute_result"
    }
   ],
   "source": [
    "MLB2018 = pd.read_csv(r\"/Users/davidgibson/Desktop/MLBstats2018.csv\")\n",
    "MLB2018.head()"
   ]
  },
  {
   "cell_type": "markdown",
   "metadata": {},
   "source": [
    "## 2019 MLB Trade Data "
   ]
  },
  {
   "cell_type": "code",
   "execution_count": 69,
   "metadata": {},
   "outputs": [
    {
     "data": {
      "text/html": [
       "<div>\n",
       "<style scoped>\n",
       "    .dataframe tbody tr th:only-of-type {\n",
       "        vertical-align: middle;\n",
       "    }\n",
       "\n",
       "    .dataframe tbody tr th {\n",
       "        vertical-align: top;\n",
       "    }\n",
       "\n",
       "    .dataframe thead th {\n",
       "        text-align: right;\n",
       "    }\n",
       "</style>\n",
       "<table border=\"1\" class=\"dataframe\">\n",
       "  <thead>\n",
       "    <tr style=\"text-align: right;\">\n",
       "      <th></th>\n",
       "      <th></th>\n",
       "      <th></th>\n",
       "      <th>MLB Trade Stats 2019</th>\n",
       "    </tr>\n",
       "  </thead>\n",
       "  <tbody>\n",
       "    <tr>\n",
       "      <th>Name</th>\n",
       "      <th>Team</th>\n",
       "      <th>BeforeTrade</th>\n",
       "      <td>AfterTrade</td>\n",
       "    </tr>\n",
       "    <tr>\n",
       "      <th>Scooter Gennett</th>\n",
       "      <th>Giants</th>\n",
       "      <th>bt: .217 avg</th>\n",
       "      <td>at: .234 avg</td>\n",
       "    </tr>\n",
       "    <tr>\n",
       "      <th>Adam Kolarek</th>\n",
       "      <th>Dodgers</th>\n",
       "      <th>bt: 3.95 era</th>\n",
       "      <td>at: 0.77 era</td>\n",
       "    </tr>\n",
       "    <tr>\n",
       "      <th>Sam Dyson</th>\n",
       "      <th>Twins</th>\n",
       "      <th>bt: 2.47 era</th>\n",
       "      <td>at: 7.15 era</td>\n",
       "    </tr>\n",
       "    <tr>\n",
       "      <th>Mark Melancon</th>\n",
       "      <th>Braves</th>\n",
       "      <th>bt: 3.50 era</th>\n",
       "      <td>at: 3.86 era</td>\n",
       "    </tr>\n",
       "  </tbody>\n",
       "</table>\n",
       "</div>"
      ],
      "text/plain": [
       "                                       MLB Trade Stats 2019 \n",
       "Name             Team     BeforeTrade             AfterTrade\n",
       "Scooter Gennett  Giants   bt: .217 avg       at: .234 avg   \n",
       "Adam Kolarek     Dodgers  bt: 3.95 era        at: 0.77 era  \n",
       "Sam Dyson        Twins    bt: 2.47 era       at: 7.15 era   \n",
       "Mark Melancon    Braves   bt: 3.50 era         at: 3.86 era "
      ]
     },
     "execution_count": 69,
     "metadata": {},
     "output_type": "execute_result"
    }
   ],
   "source": [
    "MLB2019 = pd.read_csv(r\"/Users/davidgibson/Desktop/MLBstats2019.csv\")\n",
    "MLB2019.head()"
   ]
  },
  {
   "cell_type": "markdown",
   "metadata": {},
   "source": [
    "# I am going to begin by working with the MLB trade data from 2018. Here I will display the stats of every player who was traded in 2018.   "
   ]
  },
  {
   "cell_type": "code",
   "execution_count": 70,
   "metadata": {},
   "outputs": [
    {
     "data": {
      "text/html": [
       "<div>\n",
       "<style scoped>\n",
       "    .dataframe tbody tr th:only-of-type {\n",
       "        vertical-align: middle;\n",
       "    }\n",
       "\n",
       "    .dataframe tbody tr th {\n",
       "        vertical-align: top;\n",
       "    }\n",
       "\n",
       "    .dataframe thead th {\n",
       "        text-align: right;\n",
       "    }\n",
       "</style>\n",
       "<table border=\"1\" class=\"dataframe\">\n",
       "  <thead>\n",
       "    <tr style=\"text-align: right;\">\n",
       "      <th></th>\n",
       "      <th></th>\n",
       "      <th></th>\n",
       "      <th>MLB Trade Stats 2018</th>\n",
       "    </tr>\n",
       "  </thead>\n",
       "  <tbody>\n",
       "    <tr>\n",
       "      <th>Name</th>\n",
       "      <th>Team</th>\n",
       "      <th>BeforeTrade</th>\n",
       "      <td>AfterTrade</td>\n",
       "    </tr>\n",
       "    <tr>\n",
       "      <th>Jonathan Schoop</th>\n",
       "      <th>Brewers</th>\n",
       "      <th>bt: .244 avg</th>\n",
       "      <td>at: .202 avg</td>\n",
       "    </tr>\n",
       "    <tr>\n",
       "      <th>Jake Diekman</th>\n",
       "      <th>Diamondbacks</th>\n",
       "      <th>bt: 3.69 era</th>\n",
       "      <td>at: 7.53 era</td>\n",
       "    </tr>\n",
       "    <tr>\n",
       "      <th>Kevin Gausman</th>\n",
       "      <th>Braves</th>\n",
       "      <th>bt: 4.43 era</th>\n",
       "      <td>at: 2.87 era</td>\n",
       "    </tr>\n",
       "    <tr>\n",
       "      <th>Chris Archer</th>\n",
       "      <th>Pirates</th>\n",
       "      <th>bt: 4.31 era</th>\n",
       "      <td>at: 4.30 era</td>\n",
       "    </tr>\n",
       "    <tr>\n",
       "      <th>Tyler Glasnow</th>\n",
       "      <th>Rays</th>\n",
       "      <th>bt: 4.34 era</th>\n",
       "      <td>at: 4.20 era</td>\n",
       "    </tr>\n",
       "    <tr>\n",
       "      <th>Austin Meadows</th>\n",
       "      <th>Rays</th>\n",
       "      <th>bt: .292 avg</th>\n",
       "      <td>at: .250 avg</td>\n",
       "    </tr>\n",
       "    <tr>\n",
       "      <th>Brian Dozier</th>\n",
       "      <th>Dodgers</th>\n",
       "      <th>bt: .227 avg</th>\n",
       "      <td>at: .182 avg</td>\n",
       "    </tr>\n",
       "    <tr>\n",
       "      <th>Logan Forsythe</th>\n",
       "      <th>Twins</th>\n",
       "      <th>bt: .207 avg</th>\n",
       "      <td>at: .258 avg</td>\n",
       "    </tr>\n",
       "    <tr>\n",
       "      <th>Brandon Kintzler</th>\n",
       "      <th>Cubs</th>\n",
       "      <th>bt: 3.59 era</th>\n",
       "      <td>at: 7.00 era</td>\n",
       "    </tr>\n",
       "    <tr>\n",
       "      <th>Wilson Ramos</th>\n",
       "      <th>Phillies</th>\n",
       "      <th>bt: .297 avg</th>\n",
       "      <td>at: .337 avg</td>\n",
       "    </tr>\n",
       "    <tr>\n",
       "      <th>Brad Ziegler</th>\n",
       "      <th>Diamondbacks</th>\n",
       "      <th>bt: 3.98 era</th>\n",
       "      <td>at: 3.74 era</td>\n",
       "    </tr>\n",
       "    <tr>\n",
       "      <th>Leonys Martin</th>\n",
       "      <th>Indians</th>\n",
       "      <th>bt: .251 avg</th>\n",
       "      <td>at: .333 avg</td>\n",
       "    </tr>\n",
       "    <tr>\n",
       "      <th>Tommy Pham</th>\n",
       "      <th>Rays</th>\n",
       "      <th>bt: .248 avg</th>\n",
       "      <td>at: .343 avg</td>\n",
       "    </tr>\n",
       "    <tr>\n",
       "      <th>Ian Kinsler</th>\n",
       "      <th>Red Sox</th>\n",
       "      <th>bt: .239 avg</th>\n",
       "      <td>at: .242 avg</td>\n",
       "    </tr>\n",
       "    <tr>\n",
       "      <th>Keone Kela</th>\n",
       "      <th>Pirates</th>\n",
       "      <th>bt: 3.44 era</th>\n",
       "      <td>at: 2.93 era</td>\n",
       "    </tr>\n",
       "    <tr>\n",
       "      <th>Adam Duvall</th>\n",
       "      <th>Braves</th>\n",
       "      <th>bt: .205 avg</th>\n",
       "      <td>at: .132 avg</td>\n",
       "    </tr>\n",
       "    <tr>\n",
       "      <th>Lance Lynn</th>\n",
       "      <th>Yankees</th>\n",
       "      <th>bt: 5.10 era</th>\n",
       "      <td>at: 4.14 era</td>\n",
       "    </tr>\n",
       "    <tr>\n",
       "      <th>Adam Warren</th>\n",
       "      <th>Mariners</th>\n",
       "      <th>bt: 2.70 era</th>\n",
       "      <td>at: 3.74 era</td>\n",
       "    </tr>\n",
       "    <tr>\n",
       "      <th>Roberto Osuna</th>\n",
       "      <th>Astros</th>\n",
       "      <th>bt: 2.93 era</th>\n",
       "      <td>at: 1.99 era</td>\n",
       "    </tr>\n",
       "    <tr>\n",
       "      <th>Ken Giles</th>\n",
       "      <th>Blue Jays</th>\n",
       "      <th>bt: 4.99 era</th>\n",
       "      <td>at: 4.12 era</td>\n",
       "    </tr>\n",
       "    <tr>\n",
       "      <th>Brad Brach</th>\n",
       "      <th>Braves</th>\n",
       "      <th>bt: 4.85 era</th>\n",
       "      <td>at: 1.52 era</td>\n",
       "    </tr>\n",
       "    <tr>\n",
       "      <th>Chasen Shreve</th>\n",
       "      <th>Cardinals</th>\n",
       "      <th>bt: 4.26 era</th>\n",
       "      <td>at: 3.07 era</td>\n",
       "    </tr>\n",
       "    <tr>\n",
       "      <th>Luke Voit</th>\n",
       "      <th>Yankees</th>\n",
       "      <th>bt: .182 avg</th>\n",
       "      <td>at: .333 avg</td>\n",
       "    </tr>\n",
       "    <tr>\n",
       "      <th>Mike Moustakas</th>\n",
       "      <th>Brewers</th>\n",
       "      <th>bt: .249 avg</th>\n",
       "      <td>at: .256 avg</td>\n",
       "    </tr>\n",
       "    <tr>\n",
       "      <th>Ryan Pressly</th>\n",
       "      <th>Astros</th>\n",
       "      <th>bt: 3.40 era</th>\n",
       "      <td>at: 0.77 era</td>\n",
       "    </tr>\n",
       "    <tr>\n",
       "      <th>Asdrubal Cabrera</th>\n",
       "      <th>Phillies</th>\n",
       "      <th>bt: .277 avg</th>\n",
       "      <td>at: .228 avg</td>\n",
       "    </tr>\n",
       "    <tr>\n",
       "      <th>Eduardo Escobar</th>\n",
       "      <th>Diamondbacks</th>\n",
       "      <th>bt: .274 avg</th>\n",
       "      <td>at: .268 avg</td>\n",
       "    </tr>\n",
       "    <tr>\n",
       "      <th>Jonny Venters</th>\n",
       "      <th>Braves</th>\n",
       "      <th>bt: 3.86 era</th>\n",
       "      <td>at: 3.54 era</td>\n",
       "    </tr>\n",
       "    <tr>\n",
       "      <th>Cole Hamels</th>\n",
       "      <th>Cubs</th>\n",
       "      <th>bt: 4.72 era</th>\n",
       "      <td>at: 2.36 era</td>\n",
       "    </tr>\n",
       "    <tr>\n",
       "      <th>J.A. Happ</th>\n",
       "      <th>Yankees</th>\n",
       "      <th>bt: 4.18 era</th>\n",
       "      <td>at: 2.69 era</td>\n",
       "    </tr>\n",
       "    <tr>\n",
       "      <th>Brandon Drury</th>\n",
       "      <th>Blue Jays</th>\n",
       "      <th>bt: .176 avg</th>\n",
       "      <td>at: .154 avg</td>\n",
       "    </tr>\n",
       "    <tr>\n",
       "      <th>Joakim Soria</th>\n",
       "      <th>Brewers</th>\n",
       "      <th>bt: 2.56 era</th>\n",
       "      <td>at: 4.09 era</td>\n",
       "    </tr>\n",
       "    <tr>\n",
       "      <th>Martin Maldonado</th>\n",
       "      <th>Astros</th>\n",
       "      <th>bt: .223 avg</th>\n",
       "      <td>at: .231 avg</td>\n",
       "    </tr>\n",
       "    <tr>\n",
       "      <th>Nathan Eovaldi</th>\n",
       "      <th>Red Sox</th>\n",
       "      <th>bt: 4.26 era</th>\n",
       "      <td>at: 3.33 era</td>\n",
       "    </tr>\n",
       "    <tr>\n",
       "      <th>Matt Andriese</th>\n",
       "      <th>Diamondbacks</th>\n",
       "      <th>bt: 4.07 era</th>\n",
       "      <td>at: 9.00 era</td>\n",
       "    </tr>\n",
       "    <tr>\n",
       "      <th>Zach Britton</th>\n",
       "      <th>Yankees</th>\n",
       "      <th>bt: 3.45 era</th>\n",
       "      <td>at: 2.88 era</td>\n",
       "    </tr>\n",
       "    <tr>\n",
       "      <th>Brad Hand</th>\n",
       "      <th>Indians</th>\n",
       "      <th>bt: 3.05 era</th>\n",
       "      <td>at: 2.28 era</td>\n",
       "    </tr>\n",
       "    <tr>\n",
       "      <th>Adam Cimber</th>\n",
       "      <th>Indians</th>\n",
       "      <th>bt: 3.17 era</th>\n",
       "      <td>at: 4.05 era</td>\n",
       "    </tr>\n",
       "    <tr>\n",
       "      <th>Manny Machado</th>\n",
       "      <th>Dodgers</th>\n",
       "      <th>bt: .315 avg</th>\n",
       "      <td>at: .273 avg</td>\n",
       "    </tr>\n",
       "  </tbody>\n",
       "</table>\n",
       "</div>"
      ],
      "text/plain": [
       "                                             MLB Trade Stats 2018\n",
       "Name              Team          BeforeTrade            AfterTrade\n",
       "Jonathan Schoop   Brewers       bt: .244 avg        at: .202 avg \n",
       "Jake Diekman      Diamondbacks  bt: 3.69 era      at: 7.53 era   \n",
       "Kevin Gausman     Braves        bt: 4.43 era       at: 2.87 era  \n",
       "Chris Archer      Pirates       bt: 4.31 era      at: 4.30 era   \n",
       "Tyler Glasnow     Rays          bt: 4.34 era      at: 4.20 era   \n",
       "Austin Meadows    Rays          bt: .292 avg       at: .250 avg  \n",
       "Brian Dozier      Dodgers       bt: .227 avg       at: .182 avg  \n",
       "Logan Forsythe    Twins         bt: .207 avg      at: .258 avg   \n",
       "Brandon Kintzler  Cubs          bt: 3.59 era       at: 7.00 era  \n",
       "Wilson Ramos      Phillies      bt: .297 avg         at: .337 avg\n",
       "Brad Ziegler      Diamondbacks  bt: 3.98 era         at: 3.74 era\n",
       "Leonys Martin     Indians       bt: .251 avg       at: .333 avg  \n",
       "Tommy Pham        Rays          bt: .248 avg        at: .343 avg \n",
       "Ian Kinsler       Red Sox       bt: .239 avg         at: .242 avg\n",
       "Keone Kela        Pirates       bt: 3.44 era         at: 2.93 era\n",
       "Adam Duvall       Braves        bt: .205 avg         at: .132 avg\n",
       "Lance Lynn        Yankees       bt: 5.10 era        at: 4.14 era \n",
       "Adam Warren       Mariners      bt: 2.70 era         at: 3.74 era\n",
       "Roberto Osuna     Astros        bt: 2.93 era         at: 1.99 era\n",
       "Ken Giles         Blue Jays     bt: 4.99 era         at: 4.12 era\n",
       "Brad Brach        Braves        bt: 4.85 era         at: 1.52 era\n",
       "Chasen Shreve     Cardinals     bt: 4.26 era         at: 3.07 era\n",
       "Luke Voit         Yankees       bt: .182 avg         at: .333 avg\n",
       "Mike Moustakas    Brewers       bt: .249 avg        at: .256 avg \n",
       "Ryan Pressly      Astros        bt: 3.40 era         at: 0.77 era\n",
       "Asdrubal Cabrera  Phillies      bt: .277 avg         at: .228 avg\n",
       "Eduardo Escobar   Diamondbacks  bt: .274 avg         at: .268 avg\n",
       "Jonny Venters     Braves        bt: 3.86 era         at: 3.54 era\n",
       "Cole Hamels       Cubs          bt: 4.72 era         at: 2.36 era\n",
       "J.A. Happ         Yankees       bt: 4.18 era         at: 2.69 era\n",
       "Brandon Drury     Blue Jays     bt: .176 avg         at: .154 avg\n",
       "Joakim Soria      Brewers       bt: 2.56 era        at: 4.09 era \n",
       "Martin Maldonado  Astros        bt: .223 avg        at: .231 avg \n",
       "Nathan Eovaldi    Red Sox       bt: 4.26 era        at: 3.33 era \n",
       "Matt Andriese     Diamondbacks  bt: 4.07 era       at: 9.00 era  \n",
       "Zach Britton      Yankees       bt: 3.45 era        at: 2.88 era \n",
       "Brad Hand         Indians       bt: 3.05 era        at: 2.28 era \n",
       "Adam Cimber       Indians       bt: 3.17 era       at: 4.05 era  \n",
       "Manny Machado     Dodgers       bt: .315 avg       at: .273 avg  "
      ]
     },
     "execution_count": 70,
     "metadata": {},
     "output_type": "execute_result"
    }
   ],
   "source": [
    "MLB2018.head(40)"
   ]
  },
  {
   "cell_type": "code",
   "execution_count": 86,
   "metadata": {},
   "outputs": [
    {
     "name": "stdout",
     "output_type": "stream",
     "text": [
      "MLB2018_BeforeTrade\n"
     ]
    }
   ],
   "source": [
    "print(\"MLB2018_BeforeTrade\")"
   ]
  },
  {
   "cell_type": "code",
   "execution_count": 87,
   "metadata": {},
   "outputs": [
    {
     "name": "stdout",
     "output_type": "stream",
     "text": [
      "MLB2018_AfterTrade\n"
     ]
    }
   ],
   "source": [
    "print(\"MLB2018_AfterTrade\")"
   ]
  },
  {
   "cell_type": "code",
   "execution_count": 89,
   "metadata": {},
   "outputs": [
    {
     "name": "stderr",
     "output_type": "stream",
     "text": [
      "<>:2: SyntaxWarning: str indices must be integers or slices, not str; perhaps you missed a comma?\n",
      "<>:2: SyntaxWarning: str indices must be integers or slices, not str; perhaps you missed a comma?\n",
      "<>:3: SyntaxWarning: str indices must be integers or slices, not str; perhaps you missed a comma?\n",
      "<>:3: SyntaxWarning: str indices must be integers or slices, not str; perhaps you missed a comma?\n",
      "<>:2: SyntaxWarning: str indices must be integers or slices, not str; perhaps you missed a comma?\n",
      "<>:2: SyntaxWarning: str indices must be integers or slices, not str; perhaps you missed a comma?\n",
      "<>:3: SyntaxWarning: str indices must be integers or slices, not str; perhaps you missed a comma?\n",
      "<>:3: SyntaxWarning: str indices must be integers or slices, not str; perhaps you missed a comma?\n",
      "<ipython-input-89-6ccd7c05d127>:2: SyntaxWarning: str indices must be integers or slices, not str; perhaps you missed a comma?\n",
      "  plt.hist(\"MLB2018_BeforeTrade\"['Name'].loc[\"MLB2018_BeforeTrade\"['category'] == 'stats'], bins, alpha = 0.5, label = \"BeforeTrade\")\n",
      "<ipython-input-89-6ccd7c05d127>:2: SyntaxWarning: str indices must be integers or slices, not str; perhaps you missed a comma?\n",
      "  plt.hist(\"MLB2018_BeforeTrade\"['Name'].loc[\"MLB2018_BeforeTrade\"['category'] == 'stats'], bins, alpha = 0.5, label = \"BeforeTrade\")\n"
     ]
    },
    {
     "ename": "TypeError",
     "evalue": "string indices must be integers",
     "output_type": "error",
     "traceback": [
      "\u001b[0;31m---------------------------------------------------------------------------\u001b[0m",
      "\u001b[0;31mTypeError\u001b[0m                                 Traceback (most recent call last)",
      "\u001b[0;32m<ipython-input-89-6ccd7c05d127>\u001b[0m in \u001b[0;36m<module>\u001b[0;34m\u001b[0m\n\u001b[1;32m      1\u001b[0m \u001b[0mbins\u001b[0m \u001b[0;34m=\u001b[0m \u001b[0mMLB2018\u001b[0m\u001b[0;34m.\u001b[0m\u001b[0mhead\u001b[0m\u001b[0;34m(\u001b[0m\u001b[0;36m40\u001b[0m\u001b[0;34m)\u001b[0m\u001b[0;34m\u001b[0m\u001b[0;34m\u001b[0m\u001b[0m\n\u001b[0;32m----> 2\u001b[0;31m \u001b[0mplt\u001b[0m\u001b[0;34m.\u001b[0m\u001b[0mhist\u001b[0m\u001b[0;34m(\u001b[0m\u001b[0;34m\"MLB2018_BeforeTrade\"\u001b[0m\u001b[0;34m[\u001b[0m\u001b[0;34m'Name'\u001b[0m\u001b[0;34m]\u001b[0m\u001b[0;34m.\u001b[0m\u001b[0mloc\u001b[0m\u001b[0;34m[\u001b[0m\u001b[0;34m\"MLB2018_BeforeTrade\"\u001b[0m\u001b[0;34m[\u001b[0m\u001b[0;34m'category'\u001b[0m\u001b[0;34m]\u001b[0m \u001b[0;34m==\u001b[0m \u001b[0;34m'stats'\u001b[0m\u001b[0;34m]\u001b[0m\u001b[0;34m,\u001b[0m \u001b[0mbins\u001b[0m\u001b[0;34m,\u001b[0m \u001b[0malpha\u001b[0m \u001b[0;34m=\u001b[0m \u001b[0;36m0.5\u001b[0m\u001b[0;34m,\u001b[0m \u001b[0mlabel\u001b[0m \u001b[0;34m=\u001b[0m \u001b[0;34m\"BeforeTrade\"\u001b[0m\u001b[0;34m)\u001b[0m\u001b[0;34m\u001b[0m\u001b[0;34m\u001b[0m\u001b[0m\n\u001b[0m\u001b[1;32m      3\u001b[0m \u001b[0mplt\u001b[0m\u001b[0;34m.\u001b[0m\u001b[0mhist\u001b[0m\u001b[0;34m(\u001b[0m\u001b[0;34m\"MLB2018_AfterTrade\"\u001b[0m\u001b[0;34m[\u001b[0m\u001b[0;34m'Name'\u001b[0m\u001b[0;34m]\u001b[0m\u001b[0;34m.\u001b[0m\u001b[0mloc\u001b[0m\u001b[0;34m[\u001b[0m\u001b[0;34m\"MLB2018_AfterTrade\"\u001b[0m\u001b[0;34m[\u001b[0m\u001b[0;34m'category'\u001b[0m\u001b[0;34m]\u001b[0m \u001b[0;34m==\u001b[0m \u001b[0;34m'stats'\u001b[0m\u001b[0;34m]\u001b[0m\u001b[0;34m,\u001b[0m \u001b[0mbins\u001b[0m\u001b[0;34m,\u001b[0m \u001b[0malpha\u001b[0m \u001b[0;34m=\u001b[0m \u001b[0;36m0.5\u001b[0m\u001b[0;34m,\u001b[0m \u001b[0mlabel\u001b[0m \u001b[0;34m=\u001b[0m \u001b[0;34m\"AfterTrade\"\u001b[0m\u001b[0;34m)\u001b[0m\u001b[0;34m\u001b[0m\u001b[0;34m\u001b[0m\u001b[0m\n\u001b[1;32m      4\u001b[0m \u001b[0mplt\u001b[0m\u001b[0;34m.\u001b[0m\u001b[0mlegend\u001b[0m\u001b[0;34m(\u001b[0m\u001b[0mloc\u001b[0m \u001b[0;34m=\u001b[0m \u001b[0;34m'upper right'\u001b[0m\u001b[0;34m)\u001b[0m\u001b[0;34m\u001b[0m\u001b[0;34m\u001b[0m\u001b[0m\n\u001b[1;32m      5\u001b[0m \u001b[0mplt\u001b[0m\u001b[0;34m.\u001b[0m\u001b[0mshow\u001b[0m\u001b[0;34m(\u001b[0m\u001b[0;34m)\u001b[0m\u001b[0;34m\u001b[0m\u001b[0;34m\u001b[0m\u001b[0m\n",
      "\u001b[0;31mTypeError\u001b[0m: string indices must be integers"
     ]
    }
   ],
   "source": [
    "bins = MLB2018.head(40)\n",
    "plt.hist(\"MLB2018_BeforeTrade\"['Name'].loc[\"MLB2018_BeforeTrade\"['category'] == 'stats'], bins, alpha = 0.5, label = \"BeforeTrade\")\n",
    "plt.hist(\"MLB2018_AfterTrade\"['Name'].loc[\"MLB2018_AfterTrade\"['category'] == 'stats'], bins, alpha = 0.5, label = \"AfterTrade\")\n",
    "plt.legend(loc = 'upper right')\n",
    "plt.show()"
   ]
  },
  {
   "cell_type": "code",
   "execution_count": null,
   "metadata": {},
   "outputs": [],
   "source": []
  }
 ],
 "metadata": {
  "kernelspec": {
   "display_name": "Python 3",
   "language": "python",
   "name": "python3"
  },
  "language_info": {
   "codemirror_mode": {
    "name": "ipython",
    "version": 3
   },
   "file_extension": ".py",
   "mimetype": "text/x-python",
   "name": "python",
   "nbconvert_exporter": "python",
   "pygments_lexer": "ipython3",
   "version": "3.8.5"
  }
 },
 "nbformat": 4,
 "nbformat_minor": 4
}
